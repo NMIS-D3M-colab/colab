{
 "cells": [
  {
   "cell_type": "markdown",
   "metadata": {},
   "source": [
    "For data science training using Python, Kaggle is a great resource for open source datasets:\n",
    "\n",
    "https://www.kaggle.com\n",
    "\n",
    "This session will use the Bosch manufacturing plant dataset which consists of monitoring data related to a component being created on an assembly line:\n",
    "\n",
    "https://www.kaggle.com/c/bosch-production-line-performance/data\n",
    "\n",
    "Like many open industrial datasets, the values have been altered to obfuscate the original data but maintain the underlying trends."
   ]
  },
  {
   "cell_type": "code",
   "execution_count": 115,
   "metadata": {},
   "outputs": [],
   "source": [
    "import pandas as pd\n",
    "import numpy as np\n",
    "import os\n",
    "import matplotlib.pyplot as plt\n",
    "from scipy.stats import gaussian_kde"
   ]
  },
  {
   "cell_type": "code",
   "execution_count": 38,
   "metadata": {},
   "outputs": [],
   "source": [
    "# set relative path to data folder\n",
    "\n",
    "data_path = \"data/\""
   ]
  },
  {
   "cell_type": "code",
   "execution_count": 39,
   "metadata": {},
   "outputs": [
    {
     "data": {
      "text/plain": [
       "['test_categorical.csv',\n",
       " 'train_categorical.csv',\n",
       " 'train_numeric.csv',\n",
       " 'test_numeric.csv',\n",
       " 'test_date.csv',\n",
       " 'train_date.csv']"
      ]
     },
     "execution_count": 39,
     "metadata": {},
     "output_type": "execute_result"
    }
   ],
   "source": [
    "# let's use the os library to view the files at the specified location\n",
    "\n",
    "filelist = os.listdir(data_path)\n",
    "filelist"
   ]
  },
  {
   "cell_type": "code",
   "execution_count": 51,
   "metadata": {},
   "outputs": [
    {
     "name": "stdout",
     "output_type": "stream",
     "text": [
      "train_numeric.csv\n"
     ]
    }
   ],
   "source": [
    "# let's load a single file to check what we are dealing with (this may take some time depending on your hardware specs)\n",
    "\n",
    "# specify a file from our previously loaded filelist\n",
    "filename = filelist[2]\n",
    "\n",
    "# set the file location to load using the relative data path set above\n",
    "pathandfile = data_path+filename\n",
    "\n",
    "# using pandas (which has been imported/abbreviated to 'pd'), load in the data. N.B. it is much quicker to load a smaller sample by specifying nrows\n",
    "df = pd.read_csv(pathandfile, nrows=100000)\n",
    "\n",
    "# print the loadef filename for clarity\n",
    "print(filename)"
   ]
  },
  {
   "cell_type": "markdown",
   "metadata": {},
   "source": [
    "We now have loaded the .csv file into Python using pandas and assigned the data to variable 'df'. This name is commonly used in pandas examples online but the name can be something more descriptive, especially when loading in multiple datasets. We will address this later on in the notebook.\n",
    "\n",
    "First things first, let's display a small amount of the loaded loaded file using the pandas 'head' function"
   ]
  },
  {
   "cell_type": "code",
   "execution_count": 52,
   "metadata": {},
   "outputs": [
    {
     "data": {
      "text/html": [
       "<div>\n",
       "<style scoped>\n",
       "    .dataframe tbody tr th:only-of-type {\n",
       "        vertical-align: middle;\n",
       "    }\n",
       "\n",
       "    .dataframe tbody tr th {\n",
       "        vertical-align: top;\n",
       "    }\n",
       "\n",
       "    .dataframe thead th {\n",
       "        text-align: right;\n",
       "    }\n",
       "</style>\n",
       "<table border=\"1\" class=\"dataframe\">\n",
       "  <thead>\n",
       "    <tr style=\"text-align: right;\">\n",
       "      <th></th>\n",
       "      <th>Id</th>\n",
       "      <th>L0_S0_F0</th>\n",
       "      <th>L0_S0_F2</th>\n",
       "      <th>L0_S0_F4</th>\n",
       "      <th>L0_S0_F6</th>\n",
       "      <th>L0_S0_F8</th>\n",
       "      <th>L0_S0_F10</th>\n",
       "      <th>L0_S0_F12</th>\n",
       "      <th>L0_S0_F14</th>\n",
       "      <th>L0_S0_F16</th>\n",
       "      <th>...</th>\n",
       "      <th>L3_S50_F4245</th>\n",
       "      <th>L3_S50_F4247</th>\n",
       "      <th>L3_S50_F4249</th>\n",
       "      <th>L3_S50_F4251</th>\n",
       "      <th>L3_S50_F4253</th>\n",
       "      <th>L3_S51_F4256</th>\n",
       "      <th>L3_S51_F4258</th>\n",
       "      <th>L3_S51_F4260</th>\n",
       "      <th>L3_S51_F4262</th>\n",
       "      <th>Response</th>\n",
       "    </tr>\n",
       "  </thead>\n",
       "  <tbody>\n",
       "    <tr>\n",
       "      <th>0</th>\n",
       "      <td>4</td>\n",
       "      <td>0.030</td>\n",
       "      <td>-0.034</td>\n",
       "      <td>-0.197</td>\n",
       "      <td>-0.179</td>\n",
       "      <td>0.118</td>\n",
       "      <td>0.116</td>\n",
       "      <td>-0.015</td>\n",
       "      <td>-0.032</td>\n",
       "      <td>0.020</td>\n",
       "      <td>...</td>\n",
       "      <td>NaN</td>\n",
       "      <td>NaN</td>\n",
       "      <td>NaN</td>\n",
       "      <td>NaN</td>\n",
       "      <td>NaN</td>\n",
       "      <td>NaN</td>\n",
       "      <td>NaN</td>\n",
       "      <td>NaN</td>\n",
       "      <td>NaN</td>\n",
       "      <td>0</td>\n",
       "    </tr>\n",
       "    <tr>\n",
       "      <th>1</th>\n",
       "      <td>6</td>\n",
       "      <td>NaN</td>\n",
       "      <td>NaN</td>\n",
       "      <td>NaN</td>\n",
       "      <td>NaN</td>\n",
       "      <td>NaN</td>\n",
       "      <td>NaN</td>\n",
       "      <td>NaN</td>\n",
       "      <td>NaN</td>\n",
       "      <td>NaN</td>\n",
       "      <td>...</td>\n",
       "      <td>NaN</td>\n",
       "      <td>NaN</td>\n",
       "      <td>NaN</td>\n",
       "      <td>NaN</td>\n",
       "      <td>NaN</td>\n",
       "      <td>NaN</td>\n",
       "      <td>NaN</td>\n",
       "      <td>NaN</td>\n",
       "      <td>NaN</td>\n",
       "      <td>0</td>\n",
       "    </tr>\n",
       "    <tr>\n",
       "      <th>2</th>\n",
       "      <td>7</td>\n",
       "      <td>0.088</td>\n",
       "      <td>0.086</td>\n",
       "      <td>0.003</td>\n",
       "      <td>-0.052</td>\n",
       "      <td>0.161</td>\n",
       "      <td>0.025</td>\n",
       "      <td>-0.015</td>\n",
       "      <td>-0.072</td>\n",
       "      <td>-0.225</td>\n",
       "      <td>...</td>\n",
       "      <td>NaN</td>\n",
       "      <td>NaN</td>\n",
       "      <td>NaN</td>\n",
       "      <td>NaN</td>\n",
       "      <td>NaN</td>\n",
       "      <td>NaN</td>\n",
       "      <td>NaN</td>\n",
       "      <td>NaN</td>\n",
       "      <td>NaN</td>\n",
       "      <td>0</td>\n",
       "    </tr>\n",
       "    <tr>\n",
       "      <th>3</th>\n",
       "      <td>9</td>\n",
       "      <td>-0.036</td>\n",
       "      <td>-0.064</td>\n",
       "      <td>0.294</td>\n",
       "      <td>0.330</td>\n",
       "      <td>0.074</td>\n",
       "      <td>0.161</td>\n",
       "      <td>0.022</td>\n",
       "      <td>0.128</td>\n",
       "      <td>-0.026</td>\n",
       "      <td>...</td>\n",
       "      <td>NaN</td>\n",
       "      <td>NaN</td>\n",
       "      <td>NaN</td>\n",
       "      <td>NaN</td>\n",
       "      <td>NaN</td>\n",
       "      <td>NaN</td>\n",
       "      <td>NaN</td>\n",
       "      <td>NaN</td>\n",
       "      <td>NaN</td>\n",
       "      <td>0</td>\n",
       "    </tr>\n",
       "    <tr>\n",
       "      <th>4</th>\n",
       "      <td>11</td>\n",
       "      <td>-0.055</td>\n",
       "      <td>-0.086</td>\n",
       "      <td>0.294</td>\n",
       "      <td>0.330</td>\n",
       "      <td>0.118</td>\n",
       "      <td>0.025</td>\n",
       "      <td>0.030</td>\n",
       "      <td>0.168</td>\n",
       "      <td>-0.169</td>\n",
       "      <td>...</td>\n",
       "      <td>NaN</td>\n",
       "      <td>NaN</td>\n",
       "      <td>NaN</td>\n",
       "      <td>NaN</td>\n",
       "      <td>NaN</td>\n",
       "      <td>NaN</td>\n",
       "      <td>NaN</td>\n",
       "      <td>NaN</td>\n",
       "      <td>NaN</td>\n",
       "      <td>0</td>\n",
       "    </tr>\n",
       "    <tr>\n",
       "      <th>5</th>\n",
       "      <td>13</td>\n",
       "      <td>0.003</td>\n",
       "      <td>0.019</td>\n",
       "      <td>0.294</td>\n",
       "      <td>0.312</td>\n",
       "      <td>0.031</td>\n",
       "      <td>0.161</td>\n",
       "      <td>0.022</td>\n",
       "      <td>0.088</td>\n",
       "      <td>-0.005</td>\n",
       "      <td>...</td>\n",
       "      <td>NaN</td>\n",
       "      <td>NaN</td>\n",
       "      <td>NaN</td>\n",
       "      <td>NaN</td>\n",
       "      <td>NaN</td>\n",
       "      <td>NaN</td>\n",
       "      <td>NaN</td>\n",
       "      <td>NaN</td>\n",
       "      <td>NaN</td>\n",
       "      <td>0</td>\n",
       "    </tr>\n",
       "    <tr>\n",
       "      <th>6</th>\n",
       "      <td>14</td>\n",
       "      <td>NaN</td>\n",
       "      <td>NaN</td>\n",
       "      <td>NaN</td>\n",
       "      <td>NaN</td>\n",
       "      <td>NaN</td>\n",
       "      <td>NaN</td>\n",
       "      <td>NaN</td>\n",
       "      <td>NaN</td>\n",
       "      <td>NaN</td>\n",
       "      <td>...</td>\n",
       "      <td>NaN</td>\n",
       "      <td>NaN</td>\n",
       "      <td>NaN</td>\n",
       "      <td>NaN</td>\n",
       "      <td>NaN</td>\n",
       "      <td>NaN</td>\n",
       "      <td>NaN</td>\n",
       "      <td>NaN</td>\n",
       "      <td>NaN</td>\n",
       "      <td>0</td>\n",
       "    </tr>\n",
       "    <tr>\n",
       "      <th>7</th>\n",
       "      <td>16</td>\n",
       "      <td>NaN</td>\n",
       "      <td>NaN</td>\n",
       "      <td>NaN</td>\n",
       "      <td>NaN</td>\n",
       "      <td>NaN</td>\n",
       "      <td>NaN</td>\n",
       "      <td>NaN</td>\n",
       "      <td>NaN</td>\n",
       "      <td>NaN</td>\n",
       "      <td>...</td>\n",
       "      <td>NaN</td>\n",
       "      <td>NaN</td>\n",
       "      <td>NaN</td>\n",
       "      <td>NaN</td>\n",
       "      <td>NaN</td>\n",
       "      <td>NaN</td>\n",
       "      <td>NaN</td>\n",
       "      <td>NaN</td>\n",
       "      <td>NaN</td>\n",
       "      <td>0</td>\n",
       "    </tr>\n",
       "    <tr>\n",
       "      <th>8</th>\n",
       "      <td>18</td>\n",
       "      <td>-0.016</td>\n",
       "      <td>-0.041</td>\n",
       "      <td>-0.179</td>\n",
       "      <td>-0.179</td>\n",
       "      <td>-0.056</td>\n",
       "      <td>0.161</td>\n",
       "      <td>-0.007</td>\n",
       "      <td>-0.032</td>\n",
       "      <td>-0.082</td>\n",
       "      <td>...</td>\n",
       "      <td>NaN</td>\n",
       "      <td>NaN</td>\n",
       "      <td>NaN</td>\n",
       "      <td>NaN</td>\n",
       "      <td>NaN</td>\n",
       "      <td>NaN</td>\n",
       "      <td>NaN</td>\n",
       "      <td>NaN</td>\n",
       "      <td>NaN</td>\n",
       "      <td>0</td>\n",
       "    </tr>\n",
       "    <tr>\n",
       "      <th>9</th>\n",
       "      <td>23</td>\n",
       "      <td>NaN</td>\n",
       "      <td>NaN</td>\n",
       "      <td>NaN</td>\n",
       "      <td>NaN</td>\n",
       "      <td>NaN</td>\n",
       "      <td>NaN</td>\n",
       "      <td>NaN</td>\n",
       "      <td>NaN</td>\n",
       "      <td>NaN</td>\n",
       "      <td>...</td>\n",
       "      <td>NaN</td>\n",
       "      <td>NaN</td>\n",
       "      <td>NaN</td>\n",
       "      <td>NaN</td>\n",
       "      <td>NaN</td>\n",
       "      <td>NaN</td>\n",
       "      <td>NaN</td>\n",
       "      <td>NaN</td>\n",
       "      <td>NaN</td>\n",
       "      <td>0</td>\n",
       "    </tr>\n",
       "  </tbody>\n",
       "</table>\n",
       "<p>10 rows × 970 columns</p>\n",
       "</div>"
      ],
      "text/plain": [
       "   Id  L0_S0_F0  L0_S0_F2  L0_S0_F4  L0_S0_F6  L0_S0_F8  L0_S0_F10  L0_S0_F12  \\\n",
       "0   4     0.030    -0.034    -0.197    -0.179     0.118      0.116     -0.015   \n",
       "1   6       NaN       NaN       NaN       NaN       NaN        NaN        NaN   \n",
       "2   7     0.088     0.086     0.003    -0.052     0.161      0.025     -0.015   \n",
       "3   9    -0.036    -0.064     0.294     0.330     0.074      0.161      0.022   \n",
       "4  11    -0.055    -0.086     0.294     0.330     0.118      0.025      0.030   \n",
       "5  13     0.003     0.019     0.294     0.312     0.031      0.161      0.022   \n",
       "6  14       NaN       NaN       NaN       NaN       NaN        NaN        NaN   \n",
       "7  16       NaN       NaN       NaN       NaN       NaN        NaN        NaN   \n",
       "8  18    -0.016    -0.041    -0.179    -0.179    -0.056      0.161     -0.007   \n",
       "9  23       NaN       NaN       NaN       NaN       NaN        NaN        NaN   \n",
       "\n",
       "   L0_S0_F14  L0_S0_F16  ...  L3_S50_F4245  L3_S50_F4247  L3_S50_F4249  \\\n",
       "0     -0.032      0.020  ...           NaN           NaN           NaN   \n",
       "1        NaN        NaN  ...           NaN           NaN           NaN   \n",
       "2     -0.072     -0.225  ...           NaN           NaN           NaN   \n",
       "3      0.128     -0.026  ...           NaN           NaN           NaN   \n",
       "4      0.168     -0.169  ...           NaN           NaN           NaN   \n",
       "5      0.088     -0.005  ...           NaN           NaN           NaN   \n",
       "6        NaN        NaN  ...           NaN           NaN           NaN   \n",
       "7        NaN        NaN  ...           NaN           NaN           NaN   \n",
       "8     -0.032     -0.082  ...           NaN           NaN           NaN   \n",
       "9        NaN        NaN  ...           NaN           NaN           NaN   \n",
       "\n",
       "   L3_S50_F4251  L3_S50_F4253  L3_S51_F4256  L3_S51_F4258  L3_S51_F4260  \\\n",
       "0           NaN           NaN           NaN           NaN           NaN   \n",
       "1           NaN           NaN           NaN           NaN           NaN   \n",
       "2           NaN           NaN           NaN           NaN           NaN   \n",
       "3           NaN           NaN           NaN           NaN           NaN   \n",
       "4           NaN           NaN           NaN           NaN           NaN   \n",
       "5           NaN           NaN           NaN           NaN           NaN   \n",
       "6           NaN           NaN           NaN           NaN           NaN   \n",
       "7           NaN           NaN           NaN           NaN           NaN   \n",
       "8           NaN           NaN           NaN           NaN           NaN   \n",
       "9           NaN           NaN           NaN           NaN           NaN   \n",
       "\n",
       "   L3_S51_F4262  Response  \n",
       "0           NaN         0  \n",
       "1           NaN         0  \n",
       "2           NaN         0  \n",
       "3           NaN         0  \n",
       "4           NaN         0  \n",
       "5           NaN         0  \n",
       "6           NaN         0  \n",
       "7           NaN         0  \n",
       "8           NaN         0  \n",
       "9           NaN         0  \n",
       "\n",
       "[10 rows x 970 columns]"
      ]
     },
     "execution_count": 52,
     "metadata": {},
     "output_type": "execute_result"
    }
   ],
   "source": [
    "# 'head' can specify the number of rows to includes (plus the column headings)\n",
    "\n",
    "df.head(10)"
   ]
  },
  {
   "cell_type": "markdown",
   "metadata": {},
   "source": [
    "It looks likes the data file consists of 970 columns of data. This might be a good time to explain pandas a little more:\n",
    "- Pandas is a little like an excel file in it's organisational structure.\n",
    "- By default, an index will be generated on the left hand side starting at 0 until the final data row.\n",
    "- There are column names that pandas will automatically pull from within the .csv (or other file).\n",
    "- The data is organised into columns corresponding to the structure in the original data file.\n",
    "\n",
    "In this case of this data set, the first column is a component identification reference number with column name 'Id'. The last column named 'Response' is a reference to the component status, with 0 passing inspection, and 1 a failure. The columns in between are sensor values from Bosch manufacturing equipment. We do not know what these values correspond to, nor if they are based on time. To speculate, these may be temperature values at different stages of the process.\n",
    "\n",
    "For our application, we do not really care. What are are interesting in is using these values to create a model that can predict the values of 'Response' to a high degree of accuracy as that value indicates whether or not a component was successfully made. If we can determine that sensor values that correspond to a part that will fail, the factory can change their process to reduce these failures, or take corrective action to prevent the failure from developing.\n",
    "\n",
    "First things first, we need to check our data for a few things. Let's look at the 'Response' column to see if we are indeed dealing with only 2 states - 0 and 1:"
   ]
  },
  {
   "cell_type": "code",
   "execution_count": 53,
   "metadata": {},
   "outputs": [
    {
     "data": {
      "text/plain": [
       "0    99432\n",
       "1      568\n",
       "Name: Response, dtype: int64"
      ]
     },
     "execution_count": 53,
     "metadata": {},
     "output_type": "execute_result"
    }
   ],
   "source": [
    "# the total dataset is assigned to varaiable df, but we can filter by column name to perform some functions.\n",
    "# value_counts()' is useful to check the range of values and their frequency\n",
    "\n",
    "df['Response'].value_counts()"
   ]
  },
  {
   "cell_type": "markdown",
   "metadata": {},
   "source": [
    "We can see the column 'Response' consists of 2 values, 0 which occurs 99432 times and 1 occuring 568 times (i.e. 568 component failures). Let's test this on one of the data columns to see the result:"
   ]
  },
  {
   "cell_type": "code",
   "execution_count": 54,
   "metadata": {},
   "outputs": [
    {
     "data": {
      "text/plain": [
       "-0.004    1884\n",
       "-0.011    1857\n",
       " 0.033    1844\n",
       " 0.004    1844\n",
       " 0.026    1832\n",
       "          ... \n",
       "-0.399       2\n",
       "-0.429       1\n",
       "-0.369       1\n",
       "-0.392       1\n",
       "-0.474       1\n",
       "Name: L0_S0_F2, Length: 93, dtype: int64"
      ]
     },
     "execution_count": 54,
     "metadata": {},
     "output_type": "execute_result"
    }
   ],
   "source": [
    "df['L0_S0_F2'].value_counts()"
   ]
  },
  {
   "cell_type": "markdown",
   "metadata": {},
   "source": [
    "As the range of values of data is far greater, we get a less meaningful response from value counts due to the larger number. Later we will look at histograms to derive this information and present it instead.\n",
    "\n",
    "From looking at the small smaple provided by df.head(), it is clear there are lots of 'NaN' - Not a Number. This is a common programming term to indicate a value that is not numerical within a set of numerical values. These are commonly found in data science applications and may indicate where a sensor did not provide a value correctly or where there was some anomoly. Dealing with them can be tricky there and is specific to the application:\n",
    "- Do we remove the entire row even if there is only one NaN among them? This is safe but can lead to lots of good data being dropped.\n",
    "- Do we replace with zero's? If zero has some meaning, then this should not be done.\n",
    "- Do we assign some numerical value outwith the range of the expected data values, like a negative or a complex number, so we can keep the rows and carry out analysis whilst keeping the 'NaN' values identifiable?\n",
    "- DO we just leave them and adapt our analaysis to ignore the NaN's? This may result in skewed results where a component may have lots of NaNs and so will be influenced by data outliers.\n",
    "\n",
    "Generally, dropping rows that contain NaN values is best, so long as the total dataset is not significantly reduced. Let's test dropping rows (i.e. components) that have sensor values with NaN in them:"
   ]
  },
  {
   "cell_type": "code",
   "execution_count": 56,
   "metadata": {},
   "outputs": [
    {
     "data": {
      "text/html": [
       "<div>\n",
       "<style scoped>\n",
       "    .dataframe tbody tr th:only-of-type {\n",
       "        vertical-align: middle;\n",
       "    }\n",
       "\n",
       "    .dataframe tbody tr th {\n",
       "        vertical-align: top;\n",
       "    }\n",
       "\n",
       "    .dataframe thead th {\n",
       "        text-align: right;\n",
       "    }\n",
       "</style>\n",
       "<table border=\"1\" class=\"dataframe\">\n",
       "  <thead>\n",
       "    <tr style=\"text-align: right;\">\n",
       "      <th></th>\n",
       "      <th>Id</th>\n",
       "      <th>L0_S0_F0</th>\n",
       "      <th>L0_S0_F2</th>\n",
       "      <th>L0_S0_F4</th>\n",
       "      <th>L0_S0_F6</th>\n",
       "      <th>L0_S0_F8</th>\n",
       "      <th>L0_S0_F10</th>\n",
       "      <th>L0_S0_F12</th>\n",
       "      <th>L0_S0_F14</th>\n",
       "      <th>L0_S0_F16</th>\n",
       "      <th>...</th>\n",
       "      <th>L3_S50_F4245</th>\n",
       "      <th>L3_S50_F4247</th>\n",
       "      <th>L3_S50_F4249</th>\n",
       "      <th>L3_S50_F4251</th>\n",
       "      <th>L3_S50_F4253</th>\n",
       "      <th>L3_S51_F4256</th>\n",
       "      <th>L3_S51_F4258</th>\n",
       "      <th>L3_S51_F4260</th>\n",
       "      <th>L3_S51_F4262</th>\n",
       "      <th>Response</th>\n",
       "    </tr>\n",
       "  </thead>\n",
       "  <tbody>\n",
       "  </tbody>\n",
       "</table>\n",
       "<p>0 rows × 970 columns</p>\n",
       "</div>"
      ],
      "text/plain": [
       "Empty DataFrame\n",
       "Columns: [Id, L0_S0_F0, L0_S0_F2, L0_S0_F4, L0_S0_F6, L0_S0_F8, L0_S0_F10, L0_S0_F12, L0_S0_F14, L0_S0_F16, L0_S0_F18, L0_S0_F20, L0_S0_F22, L0_S1_F24, L0_S1_F28, L0_S2_F32, L0_S2_F36, L0_S2_F40, L0_S2_F44, L0_S2_F48, L0_S2_F52, L0_S2_F56, L0_S2_F60, L0_S2_F64, L0_S3_F68, L0_S3_F72, L0_S3_F76, L0_S3_F80, L0_S3_F84, L0_S3_F88, L0_S3_F92, L0_S3_F96, L0_S3_F100, L0_S4_F104, L0_S4_F109, L0_S5_F114, L0_S5_F116, L0_S6_F118, L0_S6_F122, L0_S6_F132, L0_S7_F136, L0_S7_F138, L0_S7_F142, L0_S8_F144, L0_S8_F146, L0_S8_F149, L0_S9_F155, L0_S9_F160, L0_S9_F165, L0_S9_F170, L0_S9_F175, L0_S9_F180, L0_S9_F185, L0_S9_F190, L0_S9_F195, L0_S9_F200, L0_S9_F205, L0_S9_F210, L0_S10_F219, L0_S10_F224, L0_S10_F229, L0_S10_F234, L0_S10_F239, L0_S10_F244, L0_S10_F249, L0_S10_F254, L0_S10_F259, L0_S10_F264, L0_S10_F269, L0_S10_F274, L0_S11_F282, L0_S11_F286, L0_S11_F290, L0_S11_F294, L0_S11_F298, L0_S11_F302, L0_S11_F306, L0_S11_F310, L0_S11_F314, L0_S11_F318, L0_S11_F322, L0_S11_F326, L0_S12_F330, L0_S12_F332, L0_S12_F334, L0_S12_F336, L0_S12_F338, L0_S12_F340, L0_S12_F342, L0_S12_F344, L0_S12_F346, L0_S12_F348, L0_S12_F350, L0_S12_F352, L0_S13_F354, L0_S13_F356, L0_S14_F358, L0_S14_F362, L0_S14_F366, L0_S14_F370, ...]\n",
       "Index: []\n",
       "\n",
       "[0 rows x 970 columns]"
      ]
     },
     "execution_count": 56,
     "metadata": {},
     "output_type": "execute_result"
    }
   ],
   "source": [
    "# let's create a new subset of the data contained in 'df' called 'df_filt'\n",
    "# where any row that containes 1 or more NaNs is removed\n",
    "\n",
    "df_filt = df.dropna(how='any')\n",
    "df_filt.head(10)"
   ]
  },
  {
   "cell_type": "markdown",
   "metadata": {},
   "source": [
    "Oh dear, we have removed all the data by being overzealous in our quest for pure data! In this application, some of the sensors appear to always produce NaN values (likely inactive) and so removing any component that has a NaN value in the row is not a viable approach. As the values from the sensor range from negative to postive around zero, assigning them a value, we cannot really assign a replacement value. The only approach we can take is to leave the NaN values in for now and adapt any future analysis to accommodate for them.\n",
    "\n",
    "OK, let's start by getting to grips with the data we have. As the dataset is organised with each row corresponding to component, let's filter some rows:"
   ]
  },
  {
   "cell_type": "code",
   "execution_count": 136,
   "metadata": {},
   "outputs": [],
   "source": [
    "# create filtered df's based on Respne column\n",
    "\n",
    "df_zero = df.loc[df['Response'] == 0].reset_index(drop=True)\n",
    "df_one = df.loc[df['Response'] == 1].reset_index(drop=True)\n",
    "\n",
    "# select some index values for the zero df\n",
    "comp_a = 0\n",
    "comp_b = 100\n",
    "comp_c = 2000\n",
    "df_comp_a = df_zero.iloc[comp_a,1:969].dropna()\n",
    "df_comp_b = df_zero.iloc[comp_b,1:969].dropna()\n",
    "df_comp_c = df_zero.iloc[comp_c,1:969].dropna()\n",
    "\n",
    "# select some index values for the one df\n",
    "comp_d = 0\n",
    "comp_e = 10\n",
    "comp_f = 20\n",
    "df_comp_d = df_one.iloc[comp_d,1:969].dropna()\n",
    "df_comp_e = df_one.iloc[comp_e,1:969].dropna()\n",
    "df_comp_f = df_one.iloc[comp_f,1:969].dropna()"
   ]
  },
  {
   "cell_type": "markdown",
   "metadata": {},
   "source": [
    "N.B. NaN's were removed for each component during the filtering stage using the dropna() function of pandas. Let's try plotting a histogram to visualise component data. Histograms are a useful tool for getting a handle on data for a single entity (in this case component sensory data)."
   ]
  },
  {
   "cell_type": "code",
   "execution_count": 153,
   "metadata": {},
   "outputs": [
    {
     "data": {
      "image/png": "[encoded data removed]",
      "text/plain": [
       "<Figure size 1296x720 with 6 Axes>"
      ]
     },
     "metadata": {
      "needs_background": "light"
     },
     "output_type": "display_data"
    }
   ],
   "source": [
    "def create_subplots(ax, df, hist_range, bin_num, ylims, color, title_text):\n",
    "    ax.hist(df, bins=bin_num, range=hist_range, color=color, histtype='step')\n",
    "    ax.set_ylim(ylims)\n",
    "    ax.set_title(title_text)\n",
    "    return ax\n",
    "\n",
    "plt.rcParams['figure.figsize'] = (18, 10)\n",
    "\n",
    "ax1 = plt.subplot(231)\n",
    "ax2 = plt.subplot(232)\n",
    "ax3 = plt.subplot(233)\n",
    "ax4 = plt.subplot(234)\n",
    "ax5 = plt.subplot(235)\n",
    "ax6 = plt.subplot(236)\n",
    "\n",
    "hist_range = [-1, 1]\n",
    "ylims = [0,120]\n",
    "bin_num = 25\n",
    "\n",
    "ax1 = create_subplots(ax1, df_comp_a, hist_range, bin_num, ylims, 'blue', \"Comp #{} - pass\".format(df['Id'].iloc[comp_a]))\n",
    "ax2 = create_subplots(ax2, df_comp_b, hist_range, bin_num, ylims, 'blue', \"Comp #{} - pass\".format(df['Id'].iloc[comp_b]))\n",
    "ax3 = create_subplots(ax3, df_comp_c, hist_range, bin_num, ylims, 'blue', \"Comp #{} - pass\".format(df['Id'].iloc[comp_c]))\n",
    "ax4 = create_subplots(ax4, df_comp_d, hist_range, bin_num, ylims, 'red', \"Comp #{} - fail\".format(df['Id'].iloc[comp_d]))\n",
    "ax5 = create_subplots(ax5, df_comp_e, hist_range, bin_num, ylims, 'red', \"Comp #{} - fail\".format(df['Id'].iloc[comp_e]))\n",
    "ax6 = create_subplots(ax6, df_comp_f, hist_range, bin_num, ylims, 'red', \"Comp #{} - fail\".format(df['Id'].iloc[comp_f]))"
   ]
  },
  {
   "cell_type": "markdown",
   "metadata": {},
   "source": [
    "We have just plotted the values of all the sensor data for 3 passed components and 3 failed components into histograms. Each plot seems to be reasonably normal with potentially small degrees of skewness. One feature that may be an issue is the very large number of 0 values. This may be a genuine feature, but as this data appears to be normalised (values are alway between -1 and and 1) it may be due to the normalisation process or it may just be a default value of the sensors. This highlights the importance of understanding the source of the data and the sensor modality. However, in many cases we will be dealing with data in which the productions mechanisms will be unknown so so it's good practice to deal with data 'blindly'.\n",
    "\n",
    "Visualisation of data can be a time consuming process, especially for larger datasets. Iterable scripts that auto-generate key statistics and plots can help to identify outliers which may have interesting or erroneous data points. In the next cell we will create the mean, median and variance values for the sensor data for each component, split by components which have passed or failed:"
   ]
  },
  {
   "cell_type": "code",
   "execution_count": 176,
   "metadata": {},
   "outputs": [],
   "source": [
    "def generate_component_stats(df, median_list, mean_list, var_list):\n",
    "    median_val = df.median()\n",
    "    mean_val = df.mean()\n",
    "    var_val = df.var()\n",
    "    median_list.append(median_val)\n",
    "    mean_list.append(mean_val)\n",
    "    var_list.append(var_val)\n",
    "    return median_list, mean_list, var_list\n",
    "\n",
    "median_list_zero = []\n",
    "mean_list_zero = []\n",
    "var_list_zero = []\n",
    "median_list_one = []\n",
    "mean_list_one = []\n",
    "var_list_one = []\n",
    "\n",
    "for i in df_zero.index:\n",
    "    median_list_zero, mean_list_zero, var_list_zero = generate_component_stats(df_zero.iloc[i,1:969].dropna(), median_list_zero, mean_list_zero, var_list_zero)\n",
    "\n",
    "for i in df_one.index:\n",
    "    median_list_one, mean_list_one, var_list_one = generate_component_stats(df_one.iloc[i,1:969].dropna(), median_list_one, mean_list_one, var_list_one)\n",
    "       \n",
    "    "
   ]
  },
  {
   "cell_type": "markdown",
   "metadata": {},
   "source": [
    "To compare the difference between the lists of mean, median and variance for the passed and failed components, it will be better to plot on a single graph. Since the total number of values within the passed components (99432) compared to failed components (568), using a standard histogram would not be useful. Normalisation would allow a direct comparison."
   ]
  },
  {
   "cell_type": "code",
   "execution_count": 180,
   "metadata": {},
   "outputs": [
    {
     "data": {
      "text/plain": [
       "(array([0.        , 0.        , 0.        , 0.        , 0.        ,\n",
       "        0.        , 0.        , 0.00357782, 0.02325581, 0.07334526,\n",
       "        0.17710197, 0.31663685, 0.48300537, 0.60644007, 0.68694097,\n",
       "        0.79248658, 0.83184258, 0.87298748, 0.8980322 , 0.9177102 ,\n",
       "        0.93738819, 0.95348837, 0.97137746, 0.980322  , 0.98389982,\n",
       "        0.98568873, 0.98747764, 0.98926655, 0.98926655, 0.99284436,\n",
       "        0.99284436, 0.99463327, 0.99642218, 0.99642218, 0.99642218,\n",
       "        0.99642218, 0.99642218, 0.99642218, 0.99642218, 0.99642218,\n",
       "        0.99642218, 0.99642218, 0.99642218, 0.99642218, 0.99821109,\n",
       "        1.        , 1.        , 1.        , 1.        ]),\n",
       " array([0.        , 0.00102041, 0.00204082, 0.00306122, 0.00408163,\n",
       "        0.00510204, 0.00612245, 0.00714286, 0.00816327, 0.00918367,\n",
       "        0.01020408, 0.01122449, 0.0122449 , 0.01326531, 0.01428571,\n",
       "        0.01530612, 0.01632653, 0.01734694, 0.01836735, 0.01938776,\n",
       "        0.02040816, 0.02142857, 0.02244898, 0.02346939, 0.0244898 ,\n",
       "        0.0255102 , 0.02653061, 0.02755102, 0.02857143, 0.02959184,\n",
       "        0.03061224, 0.03163265, 0.03265306, 0.03367347, 0.03469388,\n",
       "        0.03571429, 0.03673469, 0.0377551 , 0.03877551, 0.03979592,\n",
       "        0.04081633, 0.04183673, 0.04285714, 0.04387755, 0.04489796,\n",
       "        0.04591837, 0.04693878, 0.04795918, 0.04897959, 0.05      ]),\n",
       " <a list of 1 Patch objects>)"
      ]
     },
     "execution_count": 180,
     "metadata": {},
     "output_type": "execute_result"
    },
    {
     "data": {
      "image/png": "[encoded data removed]",
      "text/plain": [
       "<Figure size 1296x720 with 3 Axes>"
      ]
     },
     "metadata": {
      "needs_background": "light"
     },
     "output_type": "display_data"
    }
   ],
   "source": [
    "ax1 = plt.subplot(131)\n",
    "ax2 = plt.subplot(132)\n",
    "ax3 = plt.subplot(133)\n",
    "\n",
    "nbins = np.linspace(-0.01,0.01)\n",
    "ax1.hist(median_list_zero, bins=nbins, cumulative=True, density=True, histtype='step')\n",
    "ax1.hist(median_list_one, bins=nbins, cumulative=True, density=True, histtype='step')\n",
    "\n",
    "nbins = np.linspace(-0.1,0.1)\n",
    "ax2.hist(mean_list_zero, bins=nbins, cumulative=True, density=True, histtype='step')\n",
    "ax2.hist(mean_list_one, bins=nbins, cumulative=True, density=True, histtype='step')\n",
    "\n",
    "nbins = np.linspace(0,0.05)\n",
    "ax3.hist(var_list_zero, bins=nbins, cumulative=True, density=True, histtype='step')\n",
    "ax3.hist(var_list_one, bins=nbins, cumulative=True, density=True, histtype='step')"
   ]
  },
  {
   "cell_type": "code",
   "execution_count": 174,
   "metadata": {},
   "outputs": [
    {
     "data": {
      "text/plain": [
       "[]"
      ]
     },
     "execution_count": 174,
     "metadata": {},
     "output_type": "execute_result"
    }
   ],
   "source": [
    "var_list_zero"
   ]
  },
  {
   "cell_type": "code",
   "execution_count": null,
   "metadata": {},
   "outputs": [],
   "source": []
  }
 ],
 "metadata": {
  "kernelspec": {
   "display_name": "Python 3",
   "language": "python",
   "name": "python3"
  },
  "language_info": {
   "codemirror_mode": {
    "name": "ipython",
    "version": 3
   },
   "file_extension": ".py",
   "mimetype": "text/x-python",
   "name": "python",
   "nbconvert_exporter": "python",
   "pygments_lexer": "ipython3",
   "version": "3.7.4"
  }
 },
 "nbformat": 4,
 "nbformat_minor": 2
}
